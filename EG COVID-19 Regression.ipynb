{
 "cells": [
  {
   "cell_type": "markdown",
   "metadata": {},
   "source": [
    "# Predicting the daily number of coronavirus(COVID-19) cases in Egypt ."
   ]
  },
  {
   "cell_type": "markdown",
   "metadata": {},
   "source": [
    "## Polynomial Regression model"
   ]
  },
  {
   "cell_type": "markdown",
   "metadata": {},
   "source": [
    "<hr>"
   ]
  },
  {
   "cell_type": "code",
   "execution_count": 1,
   "metadata": {},
   "outputs": [
    {
     "name": "stdout",
     "output_type": "stream",
     "text": [
      "data = \n",
      "   Day no.  Cases    Date\n",
      "0        0      1  Feb 14\n",
      "1        1      1  Feb 15\n",
      "2        2      1  Feb 16\n",
      "3        3      1  Feb 17\n",
      "4        4      1  Feb 18\n",
      "5        5      1  Feb 19\n",
      "6        6      1  Feb 20\n",
      "7        7      1  Feb 21\n",
      "8        8      1  Feb 22\n",
      "9        9      1  Feb 23\n",
      "................................................\n",
      "data.describe = \n",
      "         Day no.        Cases\n",
      "count  52.000000    52.000000\n",
      "mean   25.500000   231.307692\n",
      "std    15.154757   320.054746\n",
      "min     0.000000     1.000000\n",
      "25%    12.750000     1.000000\n",
      "50%    25.500000    59.500000\n",
      "75%    38.250000   375.000000\n",
      "max    51.000000  1173.000000\n",
      "................................................\n",
      "data graph :\n"
     ]
    },
    {
     "data": {
      "text/plain": [
       "<matplotlib.axes._subplots.AxesSubplot at 0x1bce01a2308>"
      ]
     },
     "execution_count": 1,
     "metadata": {},
     "output_type": "execute_result"
    },
    {
     "data": {
      "image/png": "[encoded data removed]",
      "text/plain": [
       "<Figure size 432x288 with 1 Axes>"
      ]
     },
     "metadata": {
      "needs_background": "light"
     },
     "output_type": "display_data"
    }
   ],
   "source": [
    "import numpy as np\n",
    "import pandas as pd\n",
    "import matplotlib.pyplot as plt\n",
    "\n",
    "data = pd.read_csv('data.csv', header=None, names=['Day no.', 'Cases', 'Date'])\n",
    "\n",
    "print('data = ')\n",
    "print(data.head(10) )\n",
    "print('................................................')\n",
    "print('data.describe = ')\n",
    "print(data.describe())\n",
    "print('................................................')\n",
    "print('data graph :')\n",
    "ax = plt.gca()\n",
    "data.plot(kind='line', x='Date', y='Cases', ax=ax)\n",
    "data.plot(kind='scatter', x='Date', y='Cases', ax=ax)"
   ]
  },
  {
   "cell_type": "markdown",
   "metadata": {},
   "source": [
    "<hr>"
   ]
  },
  {
   "cell_type": "markdown",
   "metadata": {},
   "source": [
    "> The graph data seems to be polynomial on the form :\n",
    "$$y = {\\theta}_0 + {\\theta}_1{x} + {\\theta}_1{x}^2 + ..... + {\\theta}_n{x}^n$$\n",
    "> I have tried several values for n until I found that the best order is 6  : \n",
    "$$y = {\\theta}_0 + {\\theta}_1{x} + {\\theta}_1{x}^2 + ..... + {\\theta}_6{x}^6$$\n",
    "\n",
    "\n"
   ]
  },
  {
   "cell_type": "markdown",
   "metadata": {},
   "source": [
    "* **Separate X (training data) from y (target variable)**\n",
    "* **Adding ones before the data (representing ${X}^0)$** "
   ]
  },
  {
   "cell_type": "code",
   "execution_count": 2,
   "metadata": {},
   "outputs": [
    {
     "name": "stdout",
     "output_type": "stream",
     "text": [
      "input data = \n",
      "     0    1     2      3       4        5        6         7         8   \\\n",
      "0  1.0  1.0   1.0    1.0     1.0      1.0      1.0       1.0       1.0   \n",
      "1  0.0  1.0   2.0    3.0     4.0      5.0      6.0       7.0       8.0   \n",
      "2  0.0  1.0   4.0    9.0    16.0     25.0     36.0      49.0      64.0   \n",
      "3  0.0  1.0   8.0   27.0    64.0    125.0    216.0     343.0     512.0   \n",
      "4  0.0  1.0  16.0   81.0   256.0    625.0   1296.0    2401.0    4096.0   \n",
      "5  0.0  1.0  32.0  243.0  1024.0   3125.0   7776.0   16807.0   32768.0   \n",
      "6  0.0  1.0  64.0  729.0  4096.0  15625.0  46656.0  117649.0  262144.0   \n",
      "\n",
      "         9   ...            42            43            44            45  \\\n",
      "0       1.0  ...  1.000000e+00  1.000000e+00  1.000000e+00  1.000000e+00   \n",
      "1       9.0  ...  4.200000e+01  4.300000e+01  4.400000e+01  4.500000e+01   \n",
      "2      81.0  ...  1.764000e+03  1.849000e+03  1.936000e+03  2.025000e+03   \n",
      "3     729.0  ...  7.408800e+04  7.950700e+04  8.518400e+04  9.112500e+04   \n",
      "4    6561.0  ...  3.111696e+06  3.418801e+06  3.748096e+06  4.100625e+06   \n",
      "5   59049.0  ...  1.306912e+08  1.470084e+08  1.649162e+08  1.845281e+08   \n",
      "6  531441.0  ...  5.489032e+09  6.321363e+09  7.256314e+09  8.303766e+09   \n",
      "\n",
      "             46            47            48            49            50  \\\n",
      "0  1.000000e+00  1.000000e+00  1.000000e+00  1.000000e+00  1.000000e+00   \n",
      "1  4.600000e+01  4.700000e+01  4.800000e+01  4.900000e+01  5.000000e+01   \n",
      "2  2.116000e+03  2.209000e+03  2.304000e+03  2.401000e+03  2.500000e+03   \n",
      "3  9.733600e+04  1.038230e+05  1.105920e+05  1.176490e+05  1.250000e+05   \n",
      "4  4.477456e+06  4.879681e+06  5.308416e+06  5.764801e+06  6.250000e+06   \n",
      "5  2.059630e+08  2.293450e+08  2.548040e+08  2.824752e+08  3.125000e+08   \n",
      "6  9.474297e+09  1.077922e+10  1.223059e+10  1.384129e+10  1.562500e+10   \n",
      "\n",
      "             51  \n",
      "0  1.000000e+00  \n",
      "1  5.100000e+01  \n",
      "2  2.601000e+03  \n",
      "3  1.326510e+05  \n",
      "4  6.765201e+06  \n",
      "5  3.450253e+08  \n",
      "6  1.759629e+10  \n",
      "\n",
      "[7 rows x 52 columns]\n",
      "................................................\n",
      "output data = \n",
      "     Cases\n",
      "0       1\n",
      "1       1\n",
      "2       1\n",
      "3       1\n",
      "4       1\n",
      "5       1\n",
      "6       1\n",
      "7       1\n",
      "8       1\n",
      "9       1\n",
      "10      1\n",
      "11      1\n",
      "12      1\n",
      "13      1\n",
      "14      1\n",
      "15      1\n",
      "16      2\n",
      "17      2\n",
      "18      2\n",
      "19      2\n",
      "20      3\n",
      "21     15\n",
      "22     15\n",
      "23     49\n",
      "24     55\n",
      "25     59\n",
      "26     60\n",
      "27     67\n",
      "28     80\n",
      "29    109\n",
      "30    110\n",
      "31    150\n",
      "32    196\n",
      "33    196\n",
      "34    256\n",
      "35    285\n",
      "36    294\n",
      "37    327\n",
      "38    366\n",
      "39    402\n",
      "40    456\n",
      "41    495\n",
      "42    536\n",
      "43    576\n",
      "44    609\n",
      "45    656\n",
      "46    710\n",
      "47    779\n",
      "48    865\n",
      "49    985\n",
      "50   1070\n",
      "51   1173\n"
     ]
    }
   ],
   "source": [
    "order = 6\n",
    "cols = data.shape[1]\n",
    "rows = data.shape[0]\n",
    "x = np.array(data.iloc[:,0:cols-2]).flatten().T\n",
    "ones=[[1.0 for i in range(rows)]]\n",
    "ones.extend( x**i for i in range(1,order+1))\n",
    "X = pd.DataFrame(data = ones)\n",
    "y = data.iloc[:,cols-2:cols-1]\n",
    "print('input data = \\n' ,X)\n",
    "print('................................................')\n",
    "print('output data = \\n' ,y )"
   ]
  },
  {
   "cell_type": "markdown",
   "metadata": {},
   "source": [
    "<hr>"
   ]
  },
  {
   "cell_type": "markdown",
   "metadata": {},
   "source": [
    "### Compute theta using normal equation :"
   ]
  },
  {
   "cell_type": "markdown",
   "metadata": {},
   "source": [
    "> ${\\theta} = ({X}_T{X})^{-1}{X}^T{y} $"
   ]
  },
  {
   "cell_type": "code",
   "execution_count": 3,
   "metadata": {},
   "outputs": [
    {
     "name": "stdout",
     "output_type": "stream",
     "text": [
      "X \n",
      " [[1.00000000e+00 1.00000000e+00 1.00000000e+00 1.00000000e+00\n",
      "  1.00000000e+00 1.00000000e+00 1.00000000e+00 1.00000000e+00\n",
      "  1.00000000e+00 1.00000000e+00 1.00000000e+00 1.00000000e+00\n",
      "  1.00000000e+00 1.00000000e+00 1.00000000e+00 1.00000000e+00\n",
      "  1.00000000e+00 1.00000000e+00 1.00000000e+00 1.00000000e+00\n",
      "  1.00000000e+00 1.00000000e+00 1.00000000e+00 1.00000000e+00\n",
      "  1.00000000e+00 1.00000000e+00 1.00000000e+00 1.00000000e+00\n",
      "  1.00000000e+00 1.00000000e+00 1.00000000e+00 1.00000000e+00\n",
      "  1.00000000e+00 1.00000000e+00 1.00000000e+00 1.00000000e+00\n",
      "  1.00000000e+00 1.00000000e+00 1.00000000e+00 1.00000000e+00\n",
      "  1.00000000e+00 1.00000000e+00 1.00000000e+00 1.00000000e+00\n",
      "  1.00000000e+00 1.00000000e+00 1.00000000e+00 1.00000000e+00\n",
      "  1.00000000e+00 1.00000000e+00 1.00000000e+00 1.00000000e+00]\n",
      " [0.00000000e+00 1.00000000e+00 2.00000000e+00 3.00000000e+00\n",
      "  4.00000000e+00 5.00000000e+00 6.00000000e+00 7.00000000e+00\n",
      "  8.00000000e+00 9.00000000e+00 1.00000000e+01 1.10000000e+01\n",
      "  1.20000000e+01 1.30000000e+01 1.40000000e+01 1.50000000e+01\n",
      "  1.60000000e+01 1.70000000e+01 1.80000000e+01 1.90000000e+01\n",
      "  2.00000000e+01 2.10000000e+01 2.20000000e+01 2.30000000e+01\n",
      "  2.40000000e+01 2.50000000e+01 2.60000000e+01 2.70000000e+01\n",
      "  2.80000000e+01 2.90000000e+01 3.00000000e+01 3.10000000e+01\n",
      "  3.20000000e+01 3.30000000e+01 3.40000000e+01 3.50000000e+01\n",
      "  3.60000000e+01 3.70000000e+01 3.80000000e+01 3.90000000e+01\n",
      "  4.00000000e+01 4.10000000e+01 4.20000000e+01 4.30000000e+01\n",
      "  4.40000000e+01 4.50000000e+01 4.60000000e+01 4.70000000e+01\n",
      "  4.80000000e+01 4.90000000e+01 5.00000000e+01 5.10000000e+01]\n",
      " [0.00000000e+00 1.00000000e+00 4.00000000e+00 9.00000000e+00\n",
      "  1.60000000e+01 2.50000000e+01 3.60000000e+01 4.90000000e+01\n",
      "  6.40000000e+01 8.10000000e+01 1.00000000e+02 1.21000000e+02\n",
      "  1.44000000e+02 1.69000000e+02 1.96000000e+02 2.25000000e+02\n",
      "  2.56000000e+02 2.89000000e+02 3.24000000e+02 3.61000000e+02\n",
      "  4.00000000e+02 4.41000000e+02 4.84000000e+02 5.29000000e+02\n",
      "  5.76000000e+02 6.25000000e+02 6.76000000e+02 7.29000000e+02\n",
      "  7.84000000e+02 8.41000000e+02 9.00000000e+02 9.61000000e+02\n",
      "  1.02400000e+03 1.08900000e+03 1.15600000e+03 1.22500000e+03\n",
      "  1.29600000e+03 1.36900000e+03 1.44400000e+03 1.52100000e+03\n",
      "  1.60000000e+03 1.68100000e+03 1.76400000e+03 1.84900000e+03\n",
      "  1.93600000e+03 2.02500000e+03 2.11600000e+03 2.20900000e+03\n",
      "  2.30400000e+03 2.40100000e+03 2.50000000e+03 2.60100000e+03]\n",
      " [0.00000000e+00 1.00000000e+00 8.00000000e+00 2.70000000e+01\n",
      "  6.40000000e+01 1.25000000e+02 2.16000000e+02 3.43000000e+02\n",
      "  5.12000000e+02 7.29000000e+02 1.00000000e+03 1.33100000e+03\n",
      "  1.72800000e+03 2.19700000e+03 2.74400000e+03 3.37500000e+03\n",
      "  4.09600000e+03 4.91300000e+03 5.83200000e+03 6.85900000e+03\n",
      "  8.00000000e+03 9.26100000e+03 1.06480000e+04 1.21670000e+04\n",
      "  1.38240000e+04 1.56250000e+04 1.75760000e+04 1.96830000e+04\n",
      "  2.19520000e+04 2.43890000e+04 2.70000000e+04 2.97910000e+04\n",
      "  3.27680000e+04 3.59370000e+04 3.93040000e+04 4.28750000e+04\n",
      "  4.66560000e+04 5.06530000e+04 5.48720000e+04 5.93190000e+04\n",
      "  6.40000000e+04 6.89210000e+04 7.40880000e+04 7.95070000e+04\n",
      "  8.51840000e+04 9.11250000e+04 9.73360000e+04 1.03823000e+05\n",
      "  1.10592000e+05 1.17649000e+05 1.25000000e+05 1.32651000e+05]\n",
      " [0.00000000e+00 1.00000000e+00 1.60000000e+01 8.10000000e+01\n",
      "  2.56000000e+02 6.25000000e+02 1.29600000e+03 2.40100000e+03\n",
      "  4.09600000e+03 6.56100000e+03 1.00000000e+04 1.46410000e+04\n",
      "  2.07360000e+04 2.85610000e+04 3.84160000e+04 5.06250000e+04\n",
      "  6.55360000e+04 8.35210000e+04 1.04976000e+05 1.30321000e+05\n",
      "  1.60000000e+05 1.94481000e+05 2.34256000e+05 2.79841000e+05\n",
      "  3.31776000e+05 3.90625000e+05 4.56976000e+05 5.31441000e+05\n",
      "  6.14656000e+05 7.07281000e+05 8.10000000e+05 9.23521000e+05\n",
      "  1.04857600e+06 1.18592100e+06 1.33633600e+06 1.50062500e+06\n",
      "  1.67961600e+06 1.87416100e+06 2.08513600e+06 2.31344100e+06\n",
      "  2.56000000e+06 2.82576100e+06 3.11169600e+06 3.41880100e+06\n",
      "  3.74809600e+06 4.10062500e+06 4.47745600e+06 4.87968100e+06\n",
      "  5.30841600e+06 5.76480100e+06 6.25000000e+06 6.76520100e+06]\n",
      " [0.00000000e+00 1.00000000e+00 3.20000000e+01 2.43000000e+02\n",
      "  1.02400000e+03 3.12500000e+03 7.77600000e+03 1.68070000e+04\n",
      "  3.27680000e+04 5.90490000e+04 1.00000000e+05 1.61051000e+05\n",
      "  2.48832000e+05 3.71293000e+05 5.37824000e+05 7.59375000e+05\n",
      "  1.04857600e+06 1.41985700e+06 1.88956800e+06 2.47609900e+06\n",
      "  3.20000000e+06 4.08410100e+06 5.15363200e+06 6.43634300e+06\n",
      "  7.96262400e+06 9.76562500e+06 1.18813760e+07 1.43489070e+07\n",
      "  1.72103680e+07 2.05111490e+07 2.43000000e+07 2.86291510e+07\n",
      "  3.35544320e+07 3.91353930e+07 4.54354240e+07 5.25218750e+07\n",
      "  6.04661760e+07 6.93439570e+07 7.92351680e+07 9.02241990e+07\n",
      "  1.02400000e+08 1.15856201e+08 1.30691232e+08 1.47008443e+08\n",
      "  1.64916224e+08 1.84528125e+08 2.05962976e+08 2.29345007e+08\n",
      "  2.54803968e+08 2.82475249e+08 3.12500000e+08 3.45025251e+08]\n",
      " [0.00000000e+00 1.00000000e+00 6.40000000e+01 7.29000000e+02\n",
      "  4.09600000e+03 1.56250000e+04 4.66560000e+04 1.17649000e+05\n",
      "  2.62144000e+05 5.31441000e+05 1.00000000e+06 1.77156100e+06\n",
      "  2.98598400e+06 4.82680900e+06 7.52953600e+06 1.13906250e+07\n",
      "  1.67772160e+07 2.41375690e+07 3.40122240e+07 4.70458810e+07\n",
      "  6.40000000e+07 8.57661210e+07 1.13379904e+08 1.48035889e+08\n",
      "  1.91102976e+08 2.44140625e+08 3.08915776e+08 3.87420489e+08\n",
      "  4.81890304e+08 5.94823321e+08 7.29000000e+08 8.87503681e+08\n",
      "  1.07374182e+09 1.29146797e+09 1.54480442e+09 1.83826562e+09\n",
      "  2.17678234e+09 2.56572641e+09 3.01093638e+09 3.51874376e+09\n",
      "  4.09600000e+09 4.75010424e+09 5.48903174e+09 6.32136305e+09\n",
      "  7.25631386e+09 8.30376562e+09 9.47429690e+09 1.07792153e+10\n",
      "  1.22305905e+10 1.38412872e+10 1.56250000e+10 1.75962878e+10]]\n",
      "X.shape =  (7, 52)\n",
      "theta \n",
      " [[-2.40717612e-05]\n",
      " [-3.08983147e-04]\n",
      " [-3.52463873e-03]\n",
      " [-2.70726548e-02]\n",
      " [ 2.36867218e-03]\n",
      " [-5.75705207e-05]\n",
      " [ 4.88901428e-07]]\n",
      "theta.shape =  (7, 1)\n",
      "y \n",
      " [[   1]\n",
      " [   1]\n",
      " [   1]\n",
      " [   1]\n",
      " [   1]\n",
      " [   1]\n",
      " [   1]\n",
      " [   1]\n",
      " [   1]\n",
      " [   1]\n",
      " [   1]\n",
      " [   1]\n",
      " [   1]\n",
      " [   1]\n",
      " [   1]\n",
      " [   1]\n",
      " [   2]\n",
      " [   2]\n",
      " [   2]\n",
      " [   2]\n",
      " [   3]\n",
      " [  15]\n",
      " [  15]\n",
      " [  49]\n",
      " [  55]\n",
      " [  59]\n",
      " [  60]\n",
      " [  67]\n",
      " [  80]\n",
      " [ 109]\n",
      " [ 110]\n",
      " [ 150]\n",
      " [ 196]\n",
      " [ 196]\n",
      " [ 256]\n",
      " [ 285]\n",
      " [ 294]\n",
      " [ 327]\n",
      " [ 366]\n",
      " [ 402]\n",
      " [ 456]\n",
      " [ 495]\n",
      " [ 536]\n",
      " [ 576]\n",
      " [ 609]\n",
      " [ 656]\n",
      " [ 710]\n",
      " [ 779]\n",
      " [ 865]\n",
      " [ 985]\n",
      " [1070]\n",
      " [1173]]\n",
      "y.shape =  (52, 1)\n"
     ]
    }
   ],
   "source": [
    "X = np.matrix(X.values).T\n",
    "y = np.matrix(y.values)\n",
    "\n",
    "theta = np.matrix(np.linalg.pinv((X.T)*X)*(X.T)*y)\n",
    "\n",
    "X = X.T\n",
    "print('X \\n',X)\n",
    "print('X.shape = ' , X.shape)\n",
    "print('theta \\n',theta)\n",
    "print('theta.shape = ' , theta.shape)\n",
    "print('y \\n',y)\n",
    "print('y.shape = ' , y.shape)"
   ]
  },
  {
   "cell_type": "markdown",
   "metadata": {},
   "source": [
    "<hr>"
   ]
  },
  {
   "cell_type": "markdown",
   "metadata": {},
   "source": [
    "### Get best fit line :"
   ]
  },
  {
   "cell_type": "markdown",
   "metadata": {},
   "source": [
    "$${f} = {X}{\\theta}$$"
   ]
  },
  {
   "cell_type": "code",
   "execution_count": 4,
   "metadata": {},
   "outputs": [
    {
     "name": "stdout",
     "output_type": "stream",
     "text": [
      "f \n",
      " [-2.40717612e-05 -2.86187579e-02 -1.95234044e-01 -5.85405231e-01\n",
      " -1.24087373e+00 -2.16561549e+00 -3.33151745e+00 -4.68370194e+00\n",
      " -6.14549911e+00 -7.62306730e+00 -9.00966150e+00 -1.01895497e+01\n",
      " -1.10415771e+01 -1.14423790e+01 -1.12692405e+01 -1.04026051e+01\n",
      " -8.72823134e+00 -6.13899675e+00 -2.53635031e+00  2.16858726e+00\n",
      "  8.05427513e+00  1.51883562e+01  2.36276125e+01  3.34182735e+01\n",
      "  4.45966752e+01  5.71902723e+01  7.12190016e+01  8.66969982e+01\n",
      "  1.03634663e+02  1.22041082e+02  1.41926800e+02  1.63306941e+02\n",
      "  1.86204687e+02  2.10655105e+02  2.36709327e+02  2.64439080e+02\n",
      "  2.93941573e+02  3.25344730e+02  3.58812778e+02  3.94552192e+02\n",
      "  4.32817977e+02  4.73920322e+02  5.18231590e+02  5.66193668e+02\n",
      "  6.18325664e+02  6.75231965e+02  7.37610635e+02  8.06262172e+02\n",
      "  8.82098620e+02  9.66153024e+02  1.05958924e+03  1.16371212e+03]\n",
      "f.shape =  (52,)\n"
     ]
    }
   ],
   "source": [
    "f = theta[0,0]\n",
    "for i in range(1, len(theta)):            \n",
    "    f += theta[i,0] * X[i]\n",
    "f=np.array(f).flatten()\n",
    "print('f \\n',f)\n",
    "print('f.shape = ' , f.shape)"
   ]
  },
  {
   "cell_type": "markdown",
   "metadata": {},
   "source": [
    "<hr>"
   ]
  },
  {
   "cell_type": "markdown",
   "metadata": {},
   "source": [
    "### Draw the prediction graph :"
   ]
  },
  {
   "cell_type": "code",
   "execution_count": 5,
   "metadata": {},
   "outputs": [
    {
     "data": {
      "text/plain": [
       "Text(0.5, 1.0, 'Predicted Cases vs. Day no.')"
      ]
     },
     "execution_count": 5,
     "metadata": {},
     "output_type": "execute_result"
    },
    {
     "data": {
      "image/png": "[encoded data removed]",
      "text/plain": [
       "<Figure size 360x360 with 1 Axes>"
      ]
     },
     "metadata": {
      "needs_background": "light"
     },
     "output_type": "display_data"
    }
   ],
   "source": [
    "fig, ax = plt.subplots(figsize=(5,5))\n",
    "ax.plot(x, f, 'r', label='Prediction')\n",
    "ax.scatter(data['Day no.'], data['Cases'], label='Traning Data')\n",
    "ax.legend(loc=2)\n",
    "ax.set_xlabel('Day no.')\n",
    "ax.set_ylabel('Cases')\n",
    "ax.set_title('Predicted Cases vs. Day no.')"
   ]
  },
  {
   "cell_type": "markdown",
   "metadata": {},
   "source": [
    "<hr>"
   ]
  },
  {
   "cell_type": "markdown",
   "metadata": {},
   "source": [
    "### Predict cases in specific comming date :"
   ]
  },
  {
   "cell_type": "code",
   "execution_count": 6,
   "metadata": {},
   "outputs": [],
   "source": [
    "from datetime import datetime\n",
    "\n",
    "#convert date to specific Day no.\n",
    "def convertDay(date:datetime):\n",
    "    delta = str(date - datetime(2020, 4, 5))\n",
    "    if delta[0] == '0':\n",
    "        return 51\n",
    "    i =0\n",
    "    dt = ''\n",
    "    while(delta[i]!=' '):\n",
    "        dt+=delta[i]\n",
    "        i+=1\n",
    "    return int(dt) + 51\n",
    "\n",
    "\n",
    "def predict(DayNo):\n",
    "    NOofCases = theta[0,0]\n",
    "    for i in range(1, len(theta)):            \n",
    "        NOofCases += theta[i,0] * DayNo**i\n",
    "    return int(NOofCases)\n",
    "   "
   ]
  },
  {
   "cell_type": "markdown",
   "metadata": {},
   "source": [
    "#### Predicted no. of Cases in all days in current week :"
   ]
  },
  {
   "cell_type": "code",
   "execution_count": 7,
   "metadata": {},
   "outputs": [],
   "source": [
    "\n",
    "days = [datetime(2020, 4, i) for i in range(4,10) ]\n",
    "Cases = [predict(convertDay(days[i])) for i in range(6)]\n",
    "for i in range(len(days)):\n",
    "    days[i]=days[i].strftime('%B %d')"
   ]
  },
  {
   "cell_type": "code",
   "execution_count": 8,
   "metadata": {},
   "outputs": [
    {
     "name": "stdout",
     "output_type": "stream",
     "text": [
      "        Day  No. of Cases\n",
      "0  April 04          1059\n",
      "1  April 05          1163\n",
      "2  April 06          1279\n",
      "3  April 07          1410\n",
      "4  April 08          1555\n",
      "5  April 09          1718\n",
      ".........................................\n"
     ]
    },
    {
     "data": {
      "text/plain": [
       "<matplotlib.axes._subplots.AxesSubplot at 0x1bce0fa5348>"
      ]
     },
     "execution_count": 8,
     "metadata": {},
     "output_type": "execute_result"
    },
    {
     "data": {
      "image/png": "[encoded data removed]",
      "text/plain": [
       "<Figure size 432x288 with 1 Axes>"
      ]
     },
     "metadata": {
      "needs_background": "light"
     },
     "output_type": "display_data"
    }
   ],
   "source": [
    "import matplotlib.dates as mdates \n",
    "predictedData = pd.DataFrame({'Day':days,'No. of Cases':Cases})\n",
    "print(predictedData)\n",
    "print('.........................................')\n",
    "\n",
    "predictedData.plot(kind='bar', x='Day', y='No. of Cases')\n"
   ]
  }
 ],
 "metadata": {
  "kernelspec": {
   "display_name": "Python 3",
   "language": "python",
   "name": "python3"
  },
  "language_info": {
   "codemirror_mode": {
    "name": "ipython",
    "version": 3
   },
   "file_extension": ".py",
   "mimetype": "text/x-python",
   "name": "python",
   "nbconvert_exporter": "python",
   "pygments_lexer": "ipython3",
   "version": "3.7.6"
  }
 },
 "nbformat": 4,
 "nbformat_minor": 2
}
